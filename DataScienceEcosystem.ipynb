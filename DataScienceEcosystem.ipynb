{
 "cells": [
  {
   "cell_type": "markdown",
   "id": "9b3c8779-0298-49df-a796-1883d94ccd7f",
   "metadata": {
    "tags": []
   },
   "source": [
    "#　DataScience Tools and Ecosystem"
   ]
  },
  {
   "cell_type": "markdown",
   "id": "06b9abc6-5f5f-45aa-ae4c-776b240696b6",
   "metadata": {},
   "source": [
    "In this notebook, Data Science Tools and Ecosystem are summarized."
   ]
  },
  {
   "cell_type": "markdown",
   "id": "921cbc32-fee4-4510-a9bc-251e55fff03a",
   "metadata": {},
   "source": [
    "Some of the popular languages that Data Scientists use are:<br>\n",
    "Then create an ordered list (i.e. numbered) listing 3 (or more) commonly used languages for data science.\n",
    "1. Python\n",
    "2. R\n",
    "3. SQL\n"
   ]
  },
  {
   "cell_type": "markdown",
   "id": "af949c82-dcee-46ab-8440-407fa4178d13",
   "metadata": {
    "tags": []
   },
   "source": [
    "# the goal\n",
    "- List popular languages in data science\n",
    "- Identify libraries commonly used in data science\n",
    "- Introducing examples of arithmetic expressions\n",
    "- Shows how to multiply and add numbers\n",
    "- Shows how to convert minutes to hours"
   ]
  },
  {
   "cell_type": "markdown",
   "id": "8ffa7ad9-5ee7-4313-bce1-5a18962afaf5",
   "metadata": {},
   "source": [
    "Some of the commonly used libraries used by Data Scientists include:<br>\n",
    "Below this line add an ordered list listing 3 (or more) commonly used libraries in data science.\n",
    "1. NumPy\n",
    "2. Pandas\n",
    "3. Matplotlib"
   ]
  },
  {
   "cell_type": "markdown",
   "id": "767f1b40-080c-407e-a36e-054bfadda5bf",
   "metadata": {},
   "source": [
    "|Data Science Tools|\n",
    "|---------------------|\n",
    "|Jupyter NoteBook|\n",
    "|RStudio         |\n",
    "|VSCode          |"
   ]
  },
  {
   "cell_type": "markdown",
   "id": "b9133355-41a7-44ff-aa1f-4123edff6ba0",
   "metadata": {
    "tags": []
   },
   "source": [
    "### Example of evaluating an arithmetic expression in Python\n",
    "Below are a few examples of evaluating arithmetic expressions in Python.\n",
    "\n",
    "a = 5<br>\n",
    "b = 3\n",
    "\n",
    "| arithmetic expression | formula | Solution |\n",
    "|-----------------------|---------|----------|\n",
    "| addition              | a + b   | 8        |\n",
    "| subtraction           | a - b   | 2        |\n",
    "| division              | a / b   | 1.66666  |\n",
    "| multiplication        | a * b   | 15       |\n",
    "| remainder             | a % b   | 2        |\n"
   ]
  },
  {
   "cell_type": "markdown",
   "id": "35a0e3db-7324-4cfd-ad20-4566de1c9d79",
   "metadata": {},
   "source": [
    " ### evaluate the expression (3*4)+5.\n",
    " This a simple arithmetic expression to mutiply then add integers.\n",
    "    "
   ]
  },
  {
   "cell_type": "code",
   "execution_count": 12,
   "id": "a68da27b-ff0c-404f-a516-aac3d0a768ff",
   "metadata": {
    "tags": []
   },
   "outputs": [
    {
     "name": "stdout",
     "output_type": "stream",
     "text": [
      "17\n"
     ]
    }
   ],
   "source": [
    "result = (3 * 4) + 5\n",
    "print(result)"
   ]
  },
  {
   "cell_type": "markdown",
   "id": "27a8aa53-cb5c-4091-90be-4f886eed8e77",
   "metadata": {
    "tags": []
   },
   "source": [
    "### convert minutes to hours\n",
    "This will convert 200 minutes to hours by diving by 60."
   ]
  },
  {
   "cell_type": "code",
   "execution_count": 15,
   "id": "7a35752d-3a07-4ce6-84b6-19d8b40755a6",
   "metadata": {
    "tags": []
   },
   "outputs": [
    {
     "name": "stdout",
     "output_type": "stream",
     "text": [
      "3hourse,20minutes\n"
     ]
    }
   ],
   "source": [
    "minutes = 200\n",
    "hours = minutes // 60\n",
    "remaining_minutes = minutes % 60\n",
    "print(f\"{hours}hourse,{remaining_minutes}minutes\")"
   ]
  },
  {
   "cell_type": "markdown",
   "id": "1df92994-6ec0-4475-b55f-b872fd69c171",
   "metadata": {},
   "source": [
    "## Author\n",
    "---\n",
    "Lakshmi Holla<br>\n",
    "\n",
    "Niveditha Pandith"
   ]
  },
  {
   "cell_type": "code",
   "execution_count": null,
   "id": "06ca1793-d1d8-487a-b1ed-aef519341ffa",
   "metadata": {},
   "outputs": [],
   "source": []
  }
 ],
 "metadata": {
  "kernelspec": {
   "display_name": "Python",
   "language": "python",
   "name": "conda-env-python-py"
  },
  "language_info": {
   "codemirror_mode": {
    "name": "ipython",
    "version": 3
   },
   "file_extension": ".py",
   "mimetype": "text/x-python",
   "name": "python",
   "nbconvert_exporter": "python",
   "pygments_lexer": "ipython3",
   "version": "3.7.12"
  }
 },
 "nbformat": 4,
 "nbformat_minor": 5
}
